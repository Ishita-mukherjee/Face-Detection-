{
 "cells": [
  {
   "cell_type": "markdown",
   "id": "6e896001",
   "metadata": {},
   "source": [
    "# Import OpenCV"
   ]
  },
  {
   "cell_type": "code",
   "execution_count": 1,
   "id": "cef8f1e7",
   "metadata": {},
   "outputs": [],
   "source": [
    "import cv2"
   ]
  },
  {
   "cell_type": "markdown",
   "id": "f2bf195c",
   "metadata": {},
   "source": [
    "# Load haar cascade"
   ]
  },
  {
   "cell_type": "code",
   "execution_count": 2,
   "id": "fbd0c7cc",
   "metadata": {},
   "outputs": [],
   "source": [
    "face_cascade = cv2.CascadeClassifier('data.xml') #pretrained faces in haar"
   ]
  },
  {
   "cell_type": "markdown",
   "id": "2bd126f8",
   "metadata": {},
   "source": [
    "# Give Input Image"
   ]
  },
  {
   "cell_type": "code",
   "execution_count": 3,
   "id": "ea1bb362",
   "metadata": {},
   "outputs": [],
   "source": [
    "img = cv2.imread('5.jpeg')"
   ]
  },
  {
   "cell_type": "markdown",
   "id": "3a7423ef",
   "metadata": {},
   "source": [
    "# Perform Face Detection"
   ]
  },
  {
   "cell_type": "code",
   "execution_count": 4,
   "id": "f7487b61",
   "metadata": {},
   "outputs": [],
   "source": [
    "faces = face_cascade.detectMultiScale(img,1.1,4)"
   ]
  },
  {
   "cell_type": "markdown",
   "id": "1d6bdbeb",
   "metadata": {},
   "source": [
    "# Draw a rectangle"
   ]
  },
  {
   "cell_type": "code",
   "execution_count": 5,
   "id": "07a54e62",
   "metadata": {},
   "outputs": [],
   "source": [
    "for(x,y,w,h) in faces:\n",
    "    cv2.rectangle(img,(x,y),(x+w,y+h),(255,0,0),4)"
   ]
  },
  {
   "cell_type": "markdown",
   "id": "ac05c0cd",
   "metadata": {},
   "source": [
    "# Exporting the image"
   ]
  },
  {
   "cell_type": "code",
   "execution_count": 6,
   "id": "3a6776ee",
   "metadata": {},
   "outputs": [
    {
     "name": "stdout",
     "output_type": "stream",
     "text": [
      "Successfull\n"
     ]
    }
   ],
   "source": [
    "cv2.imwrite(\"face2.png\",img)\n",
    "print(\"Successfull\")"
   ]
  },
  {
   "cell_type": "code",
   "execution_count": null,
   "id": "8a44ed5b",
   "metadata": {},
   "outputs": [],
   "source": []
  }
 ],
 "metadata": {
  "kernelspec": {
   "display_name": "Python 3",
   "language": "python",
   "name": "python3"
  },
  "language_info": {
   "codemirror_mode": {
    "name": "ipython",
    "version": 3
   },
   "file_extension": ".py",
   "mimetype": "text/x-python",
   "name": "python",
   "nbconvert_exporter": "python",
   "pygments_lexer": "ipython3",
   "version": "3.8.8"
  }
 },
 "nbformat": 4,
 "nbformat_minor": 5
}
