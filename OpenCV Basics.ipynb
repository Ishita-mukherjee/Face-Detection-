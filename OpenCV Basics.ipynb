{
 "cells": [
  {
   "cell_type": "code",
   "execution_count": 1,
   "id": "ee707ca5",
   "metadata": {},
   "outputs": [],
   "source": [
    "import cv2"
   ]
  },
  {
   "cell_type": "markdown",
   "id": "81d30135",
   "metadata": {},
   "source": [
    "# Reading the image and printing the dimension"
   ]
  },
  {
   "cell_type": "code",
   "execution_count": 2,
   "id": "fd851d4e",
   "metadata": {},
   "outputs": [],
   "source": [
    "image = cv2.imread(\"1.jpg\")"
   ]
  },
  {
   "cell_type": "code",
   "execution_count": 3,
   "id": "6a0527f8",
   "metadata": {},
   "outputs": [],
   "source": [
    "x,y = image.shape[:2]"
   ]
  },
  {
   "cell_type": "code",
   "execution_count": 4,
   "id": "1aec6dd8",
   "metadata": {},
   "outputs": [
    {
     "name": "stdout",
     "output_type": "stream",
     "text": [
      "Heaight = 1280 , Width = 1076\n"
     ]
    }
   ],
   "source": [
    "print(\"Heaight = {} , Width = {}\".format(x,y))"
   ]
  },
  {
   "cell_type": "markdown",
   "id": "985227c4",
   "metadata": {},
   "source": [
    "# Extracting RGB Values"
   ]
  },
  {
   "cell_type": "code",
   "execution_count": 5,
   "id": "4206b40b",
   "metadata": {},
   "outputs": [],
   "source": [
    "(R,G,B)=image[250,250]  #Selecting the pixel at this location"
   ]
  },
  {
   "cell_type": "code",
   "execution_count": 6,
   "id": "350ca242",
   "metadata": {},
   "outputs": [
    {
     "name": "stdout",
     "output_type": "stream",
     "text": [
      "R = 199 , G = 191, B = 154\n"
     ]
    }
   ],
   "source": [
    "print(\"R = {} , G = {}, B = {}\".format(R,G,B))"
   ]
  },
  {
   "cell_type": "code",
   "execution_count": 7,
   "id": "c0b5d501",
   "metadata": {},
   "outputs": [
    {
     "name": "stdout",
     "output_type": "stream",
     "text": [
      "B = 199\n"
     ]
    }
   ],
   "source": [
    "B = image[250,250,0]\n",
    "print(\"B = {}\".format(B))"
   ]
  },
  {
   "cell_type": "markdown",
   "id": "a45db50c",
   "metadata": {},
   "source": [
    "# Resizing the image"
   ]
  },
  {
   "cell_type": "code",
   "execution_count": 8,
   "id": "e983f82a",
   "metadata": {},
   "outputs": [
    {
     "data": {
      "text/plain": [
       "True"
      ]
     },
     "execution_count": 8,
     "metadata": {},
     "output_type": "execute_result"
    }
   ],
   "source": [
    "size = cv2.resize(image,(600,500))\n",
    "cv2.imwrite(\"new.jpg\",image)"
   ]
  },
  {
   "cell_type": "markdown",
   "id": "55bbaca6",
   "metadata": {},
   "source": [
    "# Placing a box"
   ]
  },
  {
   "cell_type": "code",
   "execution_count": 10,
   "id": "6669c90a",
   "metadata": {},
   "outputs": [],
   "source": [
    "rectangle = cv2.rectangle(image,(400,300),(200,200),(255,0,0),4)"
   ]
  },
  {
   "cell_type": "code",
   "execution_count": 11,
   "id": "5f999dfa",
   "metadata": {},
   "outputs": [
    {
     "data": {
      "text/plain": [
       "True"
      ]
     },
     "execution_count": 11,
     "metadata": {},
     "output_type": "execute_result"
    }
   ],
   "source": [
    "cv2.imwrite(\"new1.jpg\",image)"
   ]
  },
  {
   "cell_type": "code",
   "execution_count": null,
   "id": "514ce75b",
   "metadata": {},
   "outputs": [],
   "source": []
  },
  {
   "cell_type": "code",
   "execution_count": null,
   "id": "6afec189",
   "metadata": {},
   "outputs": [],
   "source": []
  }
 ],
 "metadata": {
  "kernelspec": {
   "display_name": "Python 3",
   "language": "python",
   "name": "python3"
  },
  "language_info": {
   "codemirror_mode": {
    "name": "ipython",
    "version": 3
   },
   "file_extension": ".py",
   "mimetype": "text/x-python",
   "name": "python",
   "nbconvert_exporter": "python",
   "pygments_lexer": "ipython3",
   "version": "3.8.8"
  }
 },
 "nbformat": 4,
 "nbformat_minor": 5
}
